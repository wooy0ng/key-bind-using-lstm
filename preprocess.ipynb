{
 "cells": [
  {
   "cell_type": "code",
   "execution_count": 8,
   "metadata": {},
   "outputs": [],
   "source": [
    "import matplotlib.pyplot as plt\n",
    "import numpy as np\n",
    "import pickle as pkl"
   ]
  },
  {
   "cell_type": "code",
   "execution_count": null,
   "metadata": {},
   "outputs": [],
   "source": [
    "from sklearn.metrics.pairwise import cosine_similarity"
   ]
  },
  {
   "cell_type": "code",
   "execution_count": 18,
   "metadata": {},
   "outputs": [
    {
     "data": {
      "text/plain": [
       "array([[0.]])"
      ]
     },
     "execution_count": 18,
     "metadata": {},
     "output_type": "execute_result"
    }
   ],
   "source": [
    "x = np.array([[0, 1, 0, 1]])\n",
    "y = np.array([[1, 0, 1, 0]])\n",
    "\n",
    "cosine_similarity(x, y)"
   ]
  },
  {
   "attachments": {},
   "cell_type": "markdown",
   "metadata": {},
   "source": [
    "<br><br>\n",
    "\n",
    "LSTM output 유효한지 확인"
   ]
  },
  {
   "cell_type": "code",
   "execution_count": 20,
   "metadata": {},
   "outputs": [],
   "source": [
    "with open('experiment1/true_input_features_sample3.pkl', 'rb+') as f:\n",
    "    true_input_fatures_sample3 = pkl.load(f)\n",
    "    \n",
    "with open('experiment1/true_input_features_sample4.pkl', 'rb+') as f:\n",
    "    true_input_fatures_sample4 = pkl.load(f)"
   ]
  },
  {
   "cell_type": "code",
   "execution_count": 21,
   "metadata": {},
   "outputs": [
    {
     "data": {
      "text/plain": [
       "array([[0.99999857]], dtype=float32)"
      ]
     },
     "execution_count": 21,
     "metadata": {},
     "output_type": "execute_result"
    }
   ],
   "source": [
    "cosine_similarity(true_input_fatures_sample3.cpu().detach(), true_input_fatures_sample4.cpu().detach())"
   ]
  },
  {
   "attachments": {},
   "cell_type": "markdown",
   "metadata": {},
   "source": [
    "embedding network(lstm)과 binding network를 한번에 묶어서 학습시키는 경우에 문제가 발생한다.\n",
    "\n",
    "어찌보면 당연한 결과이다. false 데이터가 없어서 학습이 너무 쉬울 뿐만 아니라\n",
    "\n",
    "난이도에 비해 파라미터의 수가 너무 많다.\n",
    "\n",
    "무슨 값을 넣어도 똑같은 값이 나올 수 밖에 없다.\n",
    "\n",
    "<br>\n",
    "\n",
    "이렇게 보니 LSTM을 굳이 넣어야 하나... 그냥 잘 학습된 embedding network를 가지고 오면 편할 것 같다.\n",
    "\n",
    "굳이 쓰자면 LSTM을 어떤 데이터셋을 가지고 학습을 시키는 것인데,\n",
    "\n",
    "Label이 없어서 비지도 학습이 될 것 같은데\n",
    "\n",
    "LSTM이 과연 비지도 학습에 효과적인 모델인가?\n",
    "\n",
    "또 Voxceleb 데이터셋은 외국인 발화 데이터셋이다. 애초에 voxceleb를 쓴다는 것 자체가 task에 맞지 않다.\n",
    "\n",
    "<br>"
   ]
  },
  {
   "cell_type": "code",
   "execution_count": 23,
   "metadata": {},
   "outputs": [],
   "source": [
    "with open('experiment2/false_input_features_compare2.pkl', 'rb+') as f:\n",
    "    false_input_features_compare2 = pkl.load(f)\n",
    "    \n",
    "with open('experiment2/false_input_features_compare1.pkl', 'rb+') as f:\n",
    "    false_input_features_compare1 = pkl.load(f)"
   ]
  },
  {
   "cell_type": "code",
   "execution_count": 24,
   "metadata": {},
   "outputs": [
    {
     "data": {
      "text/plain": [
       "array([[0.99970496]], dtype=float32)"
      ]
     },
     "execution_count": 24,
     "metadata": {},
     "output_type": "execute_result"
    }
   ],
   "source": [
    "cosine_similarity(false_input_features_compare2.cpu().detach(), false_input_features_compare1.cpu().detach())"
   ]
  }
 ],
 "metadata": {
  "kernelspec": {
   "display_name": "py39-cu11",
   "language": "python",
   "name": "python3"
  },
  "language_info": {
   "codemirror_mode": {
    "name": "ipython",
    "version": 3
   },
   "file_extension": ".py",
   "mimetype": "text/x-python",
   "name": "python",
   "nbconvert_exporter": "python",
   "pygments_lexer": "ipython3",
   "version": "3.9.12"
  },
  "orig_nbformat": 4
 },
 "nbformat": 4,
 "nbformat_minor": 2
}
